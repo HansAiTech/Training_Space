{
  "nbformat": 4,
  "nbformat_minor": 0,
  "metadata": {
    "colab": {
      "provenance": [],
      "authorship_tag": "ABX9TyMSWeN72QHe5Rksa39mz11g",
      "include_colab_link": true
    },
    "kernelspec": {
      "name": "python3",
      "display_name": "Python 3"
    },
    "language_info": {
      "name": "python"
    }
  },
  "cells": [
    {
      "cell_type": "markdown",
      "metadata": {
        "id": "view-in-github",
        "colab_type": "text"
      },
      "source": [
        "<a href=\"https://colab.research.google.com/github/HansAllTech/Training_Space/blob/main/Proyecto.ipynb\" target=\"_parent\"><img src=\"https://colab.research.google.com/assets/colab-badge.svg\" alt=\"Open In Colab\"/></a>"
      ]
    },
    {
      "cell_type": "markdown",
      "source": [
        "# Proyecto"
      ],
      "metadata": {
        "id": "_nPBAjXRbv2S"
      }
    },
    {
      "cell_type": "markdown",
      "source": [
        "En este proyecto se realizará un análisis exploratorio de las emisiones de CO2 mundiales de 231 países"
      ],
      "metadata": {
        "id": "3ESBuP7hf1Uh"
      }
    },
    {
      "cell_type": "code",
      "execution_count": 1,
      "metadata": {
        "id": "XsTw6hemMh4M"
      },
      "outputs": [],
      "source": [
        "import json\n",
        "\n",
        "with open('Data_CO2_Proyecto_1.json') as f:\n",
        "    data = json.load(f)"
      ]
    },
    {
      "cell_type": "code",
      "source": [
        "data['Country'][:100]"
      ],
      "metadata": {
        "colab": {
          "base_uri": "https://localhost:8080/"
        },
        "id": "EMYfsaEhben0",
        "outputId": "a20e5ffe-3ec9-4202-d21f-575fd94b5794"
      },
      "execution_count": 9,
      "outputs": [
        {
          "output_type": "execute_result",
          "data": {
            "text/plain": [
              "['Afghanistan',\n",
              " 'Afghanistan',\n",
              " 'Afghanistan',\n",
              " 'Afghanistan',\n",
              " 'Afghanistan',\n",
              " 'Afghanistan',\n",
              " 'Afghanistan',\n",
              " 'Afghanistan',\n",
              " 'Afghanistan',\n",
              " 'Afghanistan',\n",
              " 'Afghanistan',\n",
              " 'Afghanistan',\n",
              " 'Afghanistan',\n",
              " 'Afghanistan',\n",
              " 'Afghanistan',\n",
              " 'Afghanistan',\n",
              " 'Afghanistan',\n",
              " 'Afghanistan',\n",
              " 'Afghanistan',\n",
              " 'Afghanistan',\n",
              " 'Afghanistan',\n",
              " 'Afghanistan',\n",
              " 'Afghanistan',\n",
              " 'Afghanistan',\n",
              " 'Afghanistan',\n",
              " 'Afghanistan',\n",
              " 'Afghanistan',\n",
              " 'Afghanistan',\n",
              " 'Afghanistan',\n",
              " 'Afghanistan',\n",
              " 'Afghanistan',\n",
              " 'Afghanistan',\n",
              " 'Afghanistan',\n",
              " 'Afghanistan',\n",
              " 'Afghanistan',\n",
              " 'Afghanistan',\n",
              " 'Afghanistan',\n",
              " 'Afghanistan',\n",
              " 'Afghanistan',\n",
              " 'Afghanistan',\n",
              " 'Afghanistan',\n",
              " 'Afghanistan',\n",
              " 'Afghanistan',\n",
              " 'Afghanistan',\n",
              " 'Afghanistan',\n",
              " 'Afghanistan',\n",
              " 'Afghanistan',\n",
              " 'Afghanistan',\n",
              " 'Afghanistan',\n",
              " 'Afghanistan',\n",
              " 'Afghanistan',\n",
              " 'Afghanistan',\n",
              " 'Afghanistan',\n",
              " 'Afghanistan',\n",
              " 'Afghanistan',\n",
              " 'Afghanistan',\n",
              " 'Afghanistan',\n",
              " 'Afghanistan',\n",
              " 'Afghanistan',\n",
              " 'Afghanistan',\n",
              " 'Afghanistan',\n",
              " 'Afghanistan',\n",
              " 'Afghanistan',\n",
              " 'Afghanistan',\n",
              " 'Afghanistan',\n",
              " 'Afghanistan',\n",
              " 'Afghanistan',\n",
              " 'Afghanistan',\n",
              " 'Afghanistan',\n",
              " 'Afghanistan',\n",
              " 'Afghanistan',\n",
              " 'Afghanistan',\n",
              " 'Afghanistan',\n",
              " 'Afghanistan',\n",
              " 'Afghanistan',\n",
              " 'Afghanistan',\n",
              " 'Afghanistan',\n",
              " 'Afghanistan',\n",
              " 'Afghanistan',\n",
              " 'Afghanistan',\n",
              " 'Afghanistan',\n",
              " 'Afghanistan',\n",
              " 'Afghanistan',\n",
              " 'Afghanistan',\n",
              " 'Afghanistan',\n",
              " 'Afghanistan',\n",
              " 'Afghanistan',\n",
              " 'Afghanistan',\n",
              " 'Afghanistan',\n",
              " 'Afghanistan',\n",
              " 'Afghanistan',\n",
              " 'Afghanistan',\n",
              " 'Afghanistan',\n",
              " 'Afghanistan',\n",
              " 'Afghanistan',\n",
              " 'Afghanistan',\n",
              " 'Afghanistan',\n",
              " 'Afghanistan',\n",
              " 'Afghanistan',\n",
              " 'Afghanistan']"
            ]
          },
          "metadata": {},
          "execution_count": 9
        }
      ]
    },
    {
      "cell_type": "markdown",
      "source": [],
      "metadata": {
        "id": "o9PhTHDpbtDK"
      }
    }
  ]
}